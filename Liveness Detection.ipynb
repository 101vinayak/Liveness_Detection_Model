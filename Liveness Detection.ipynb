{
 "cells": [
  {
   "cell_type": "code",
   "execution_count": 2,
   "metadata": {},
   "outputs": [],
   "source": [
    "from dataset_collection import dataset\n",
    "from utils import get_dataset, get_model\n",
    "import cv2\n",
    "font = cv2.FONT_HERSHEY_DUPLEX\n",
    "import numpy as np \n",
    "import keras\n",
    "from keras.models import model_from_json\n",
    "from keras.models import Sequential\n",
    "from keras.layers import Dense, Dropout, Flatten\n",
    "from keras.layers import Conv2D, MaxPooling2D\n",
    "from keras import backend as K\n",
    "from keras.utils.np_utils import to_categorical   "
   ]
  },
  {
   "cell_type": "code",
   "execution_count": 21,
   "metadata": {},
   "outputs": [],
   "source": [
    "## Getting the dataset\n",
    "\n",
    "live_img, live_img_label, not_live, not_live_label = get_dataset()\n",
    "\n",
    "img = live_img + not_live\n",
    "labels = live_img_label+ not_live_label\n",
    "images=[]\n",
    "for i in img:\n",
    "    img = cv2.imread(i)\n",
    "    img = cv2.resize(img, (100,100))\n",
    "    images.append(img)\n",
    "\n",
    "X = np.array(images, dtype=float)\n",
    "y = np.array(labels, dtype=float)\n",
    "y= y.reshape((-1,1))\n",
    "X /= 255\n",
    "y = to_categorical(y, num_classes=2)"
   ]
  },
  {
   "cell_type": "code",
   "execution_count": 22,
   "metadata": {},
   "outputs": [
    {
     "data": {
      "text/plain": [
       "((4000, 100, 100, 3), (4000, 2))"
      ]
     },
     "execution_count": 22,
     "metadata": {},
     "output_type": "execute_result"
    }
   ],
   "source": [
    "X.shape, y.shape"
   ]
  },
  {
   "cell_type": "code",
   "execution_count": 23,
   "metadata": {},
   "outputs": [
    {
     "name": "stdout",
     "output_type": "stream",
     "text": [
      "Epoch 1/3\n",
      "113/113 [==============================] - 95s 841ms/step - loss: 0.0675 - acc: 0.9661 - val_loss: 7.9171e-06 - val_acc: 1.0000\n",
      "Epoch 2/3\n",
      "113/113 [==============================] - 92s 813ms/step - loss: 9.8137e-05 - acc: 1.0000 - val_loss: 1.4421e-06 - val_acc: 1.0000\n",
      "Epoch 3/3\n",
      "113/113 [==============================] - 88s 780ms/step - loss: 1.6460e-04 - acc: 1.0000 - val_loss: 3.3110e-07 - val_acc: 1.0000\n"
     ]
    },
    {
     "data": {
      "text/plain": [
       "<tensorflow.python.keras.callbacks.History at 0x1f00601d460>"
      ]
     },
     "execution_count": 23,
     "metadata": {},
     "output_type": "execute_result"
    }
   ],
   "source": [
    "## Model Training\n",
    "\n",
    "model = get_model()\n",
    "\n",
    "model.compile(optimizer='adam', loss='categorical_crossentropy', metrics=['acc'])\n",
    "model.fit(x=X, y=y, validation_split=0.1, epochs=3)"
   ]
  },
  {
   "cell_type": "code",
   "execution_count": 30,
   "metadata": {},
   "outputs": [],
   "source": [
    "## Save weights\n",
    "#model.save_weights('weights.h5')\n",
    "model = get_model()\n",
    "model.load_weights('weights.h5')"
   ]
  },
  {
   "cell_type": "code",
   "execution_count": 31,
   "metadata": {},
   "outputs": [],
   "source": [
    "########## KNN CODE ############\n",
    "def distance(v1, v2):\n",
    "    # Eucledian \n",
    "    return np.sqrt(((v1-v2)**2).sum())\n",
    "\n",
    "def knn(train, test, k=5):\n",
    "    dist = []\n",
    "\n",
    "    for i in range(train.shape[0]):\n",
    "        # Get the vector and label\n",
    "        ix = train[i, :-1]\n",
    "        iy = train[i, -1]\n",
    "        # Compute the distance from test point\n",
    "        d = distance(test, ix)\n",
    "        dist.append([d, iy])\n",
    "    # Sort based on distance and get top k\n",
    "    dk = sorted(dist, key=lambda x: x[0])[:k]\n",
    "    # Retrieve only the labels\n",
    "    labels = np.array(dk)[:, -1]\n",
    "\n",
    "    # Get frequencies of each label\n",
    "    output = np.unique(labels, return_counts=True)\n",
    "    # Find max frequency and corresponding label\n",
    "    index = np.argmax(output[1])\n",
    "    return output[0][index]\n",
    "################################"
   ]
  },
  {
   "cell_type": "code",
   "execution_count": 32,
   "metadata": {},
   "outputs": [],
   "source": [
    "dataset_path = \"face_dataset/\"\n",
    "\n",
    "face_data = []\n",
    "labels = []\n",
    "class_id = 0\n",
    "names = {}"
   ]
  },
  {
   "cell_type": "code",
   "execution_count": 33,
   "metadata": {},
   "outputs": [
    {
     "name": "stdout",
     "output_type": "stream",
     "text": [
      "(58, 1)\n",
      "(58, 30000)\n",
      "(58, 30001)\n"
     ]
    }
   ],
   "source": [
    "import os\n",
    "\n",
    "for fx in os.listdir(dataset_path):\n",
    "    if fx.endswith('.npy'):\n",
    "        names[class_id] = fx[:-4]\n",
    "        data_item = np.load(dataset_path + fx)\n",
    "        face_data.append(data_item)\n",
    "\n",
    "        target = class_id * np.ones((data_item.shape[0],))    ##names= {[0,vasu],[1,vinayak],....so on}\n",
    "        class_id += 1\n",
    "        labels.append(target)\n",
    "\n",
    "face_dataset = np.concatenate(face_data, axis=0)\n",
    "face_labels = np.concatenate(labels, axis=0).reshape((-1, 1))\n",
    "print(face_labels.shape)\n",
    "print(face_dataset.shape)\n",
    "\n",
    "trainset = np.concatenate((face_dataset, face_labels), axis=1)\n",
    "print(trainset.shape)"
   ]
  },
  {
   "cell_type": "code",
   "execution_count": 42,
   "metadata": {},
   "outputs": [],
   "source": [
    "cap = cv2.VideoCapture(0)\n",
    "\n",
    "#result = cv2.VideoWriter('output.avi', cv2.VideoWriter_fourcc(*'MJPG'), 10, (640, 480))\n",
    "\n",
    "while(True):\n",
    "    # Capture frame-by-frame\n",
    "    ret, frame = cap.read()\n",
    "    img = cv2.resize(frame, (100,100))\n",
    "    img = np.expand_dims(img, axis=0)\n",
    "    \n",
    "    face_cascade = cv2.CascadeClassifier('haarcascade_frontalface_default.xml')\n",
    "    pred = model.predict(img)\n",
    "    \n",
    "    if pred[0][1]:\n",
    "        cv2.putText(frame, '!!WARNING!!', (frame.shape[1]//2, frame.shape[0]//2), font, 1.0, (255, 255, 255), 1)        \n",
    "    \n",
    "    else:\n",
    "        gray = cv2.cvtColor(frame, cv2.COLOR_BGR2GRAY)\n",
    "        faces = face_cascade.detectMultiScale(gray, 1.3, 5)\n",
    "        for (x,y,w,h) in faces:\n",
    "\n",
    "            frame = cv2.rectangle(frame,(x,y),(x+w,y+h),(255,0,0),2)\n",
    "            \n",
    "            offset = 5\n",
    "            face_section = frame[y-offset:y+h+offset, x-offset:x+w+offset]\n",
    "            face_section = cv2.resize(face_section, (100, 100))\n",
    "            \n",
    "            out = knn(trainset, face_section.flatten())\n",
    "            cv2.putText(frame, names[int(out)],(x,y-10), cv2.FONT_HERSHEY_SIMPLEX, 1,(255,0,0),2,cv2.LINE_AA)\n",
    "        \n",
    "        cv2.putText(frame, 'UNLOCKED', (frame.shape[1]//2, frame.shape[0]//2), font, 1.0, (0, 255, 0), 1)\n",
    "\n",
    "    #result.write(frame)\n",
    "\n",
    "    # Display the resulting frame\n",
    "    cv2.imshow('frame',frame)\n",
    "    if cv2.waitKey(1) & 0xFF == ord('q'):\n",
    "        break\n",
    "\n",
    "# When everything done, release the capture\n",
    "cap.release()\n",
    "#result.release()\n",
    "cv2.destroyAllWindows()"
   ]
  },
  {
   "cell_type": "code",
   "execution_count": null,
   "metadata": {},
   "outputs": [],
   "source": []
  },
  {
   "cell_type": "code",
   "execution_count": null,
   "metadata": {},
   "outputs": [],
   "source": []
  },
  {
   "cell_type": "code",
   "execution_count": null,
   "metadata": {},
   "outputs": [],
   "source": []
  }
 ],
 "metadata": {
  "kernelspec": {
   "display_name": "Python 3",
   "language": "python",
   "name": "python3"
  }
 },
 "nbformat": 4,
 "nbformat_minor": 4
}
